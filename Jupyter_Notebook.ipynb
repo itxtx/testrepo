{
 "cells": [
  {
   "cell_type": "markdown",
   "id": "5688fde2-0a29-41ea-904e-30a8093fbc18",
   "metadata": {},
   "source": [
    "<h1> Data Science Tools and Ecosystem"
   ]
  },
  {
   "cell_type": "markdown",
   "id": "1342579a-2aab-4e07-abb7-f5e22d4a443b",
   "metadata": {},
   "source": [
    "In this notebook, Data Science Tools and Ecosystem are summarized."
   ]
  },
  {
   "cell_type": "markdown",
   "id": "c7c57aa3-4c14-476d-8fa3-548bd5ed042b",
   "metadata": {},
   "source": [
    "__Objectives:__\n",
    "\n",
    "- List popular languages for Data Science\n",
    "- List common libraries\n",
    "- Use basic arithmetic operations"
   ]
  },
  {
   "cell_type": "markdown",
   "id": "129d2bf3-5915-4a24-9de9-e01cf96b28e2",
   "metadata": {},
   "source": [
    "Some of the popular languages that Data Scientists use are:\n",
    "1. Python\n",
    "2. R\n",
    "3. Julia"
   ]
  },
  {
   "cell_type": "markdown",
   "id": "484c6b96-6698-4975-a205-eb92632b9d30",
   "metadata": {
    "tags": []
   },
   "source": [
    "Some of the commonly used libraries used by Data Scientists include:\n",
    "1. Numpy\n",
    "2. Pandas\n",
    "3. seaborn\n",
    "4. tensorflow\n",
    "5. keras\n",
    "6. pytorch"
   ]
  },
  {
   "cell_type": "markdown",
   "id": "ebf33a53-7bff-4fb4-9a67-89264daeedac",
   "metadata": {},
   "source": [
    "|Data Science Tools|\n",
    "|------------------|\n",
    "|Apache Spark|\n",
    "|Apache Hadoop|\n",
    "|Jupyter Notebook|"
   ]
  },
  {
   "cell_type": "markdown",
   "id": "e332f0a2-7647-4053-a307-27b939223122",
   "metadata": {},
   "source": [
    "<h3> Below are a few examples of evaluating arithmetic expressions in Python"
   ]
  },
  {
   "cell_type": "code",
   "execution_count": 2,
   "id": "4f6eadc6-d4b6-4e1d-a454-a0a094481c78",
   "metadata": {
    "tags": []
   },
   "outputs": [
    {
     "data": {
      "text/plain": [
       "17"
      ]
     },
     "execution_count": 2,
     "metadata": {},
     "output_type": "execute_result"
    }
   ],
   "source": [
    "#This a simple arithmetic expression to mutiply then add integers\n",
    "(3*4)+5"
   ]
  },
  {
   "cell_type": "code",
   "execution_count": 4,
   "id": "5f86ebb3-3dbf-4368-a0c7-760554711e7b",
   "metadata": {
    "tags": []
   },
   "outputs": [
    {
     "name": "stdout",
     "output_type": "stream",
     "text": [
      "3.3333333333333335\n"
     ]
    }
   ],
   "source": [
    "#This will convert 200 minutes to hours by diving by 60\n",
    "\n",
    "minutues = 200\n",
    "hours = 200/60\n",
    "print(hours)"
   ]
  },
  {
   "cell_type": "markdown",
   "id": "ff2ab491-4636-4072-8f32-687e32876601",
   "metadata": {},
   "source": [
    "<h2> Author\n",
    "\n",
    "Tom"
   ]
  },
  {
   "cell_type": "code",
   "execution_count": null,
   "id": "3545e73c-968b-499b-bbf3-306bacc28efc",
   "metadata": {},
   "outputs": [],
   "source": []
  }
 ],
 "metadata": {
  "kernelspec": {
   "display_name": "Python",
   "language": "python",
   "name": "conda-env-python-py"
  },
  "language_info": {
   "codemirror_mode": {
    "name": "ipython",
    "version": 3
   },
   "file_extension": ".py",
   "mimetype": "text/x-python",
   "name": "python",
   "nbconvert_exporter": "python",
   "pygments_lexer": "ipython3",
   "version": "3.7.12"
  }
 },
 "nbformat": 4,
 "nbformat_minor": 5
}
